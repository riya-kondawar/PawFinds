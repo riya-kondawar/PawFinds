{
  "nbformat": 4,
  "nbformat_minor": 0,
  "metadata": {
    "colab": {
      "provenance": []
    },
    "kernelspec": {
      "name": "python3",
      "display_name": "Python 3"
    },
    "language_info": {
      "name": "python"
    }
  },
  "cells": [
    {
      "cell_type": "code",
      "execution_count": 1,
      "metadata": {
        "colab": {
          "base_uri": "https://localhost:8080/"
        },
        "id": "rp_3h2iYsEVZ",
        "outputId": "bec198ee-25dd-4664-a8f4-d0bdf40c384d"
      },
      "outputs": [
        {
          "output_type": "stream",
          "name": "stdout",
          "text": [
            "Requirement already satisfied: pyspark in /usr/local/lib/python3.10/dist-packages (3.5.3)\n",
            "Requirement already satisfied: py4j==0.10.9.7 in /usr/local/lib/python3.10/dist-packages (from pyspark) (0.10.9.7)\n"
          ]
        }
      ],
      "source": [
        "pip install pyspark\n"
      ]
    },
    {
      "cell_type": "code",
      "source": [
        "from pyspark.sql import SparkSession\n",
        "spark=SparkSession.builder.getOrCreate()\n"
      ],
      "metadata": {
        "id": "LbzvQz3AsVi7"
      },
      "execution_count": 2,
      "outputs": []
    },
    {
      "source": [
        "df=spark.read.csv('/content/animal-shelter-intakes-and-outcomes.csv',header=True)\n",
        "df.show()"
      ],
      "cell_type": "code",
      "metadata": {
        "colab": {
          "base_uri": "https://localhost:8080/"
        },
        "id": "Ksh09LVJs9F7",
        "outputId": "db482a02-6ca8-4bb1-887e-4e95e113ae9b"
      },
      "execution_count": 6,
      "outputs": [
        {
          "output_type": "stream",
          "name": "stdout",
          "text": [
            "+---------+----------------+-----------+-------------+---------------+--------+----------+-----------+-----------------+---------------+--------------+------------+--------------------+------------+--------------------+---------------+----------+------------+---------------+---------------+-----------------+--------------------+\n",
            "|Animal ID|     Animal Name|Animal Type|Primary Color|Secondary Color|     Sex|       DOB|Intake Date| Intake Condition|    Intake Type|Intake Subtype|Outcome Date|            Crossing|Jurisdiction|        Outcome Type|Outcome Subtype|  latitude|   longitude| intake_is_dead|outcome_is_dead|was_outcome_alive|            geopoint|\n",
            "+---------+----------------+-----------+-------------+---------------+--------+----------+-----------+-----------------+---------------+--------------+------------+--------------------+------------+--------------------+---------------+----------+------------+---------------+---------------+-----------------+--------------------+\n",
            "|  A635662|         A635662|        CAT|    ORG TABBY|           NULL|Neutered|04-11-2016| 04-11-2019|           NORMAL|          STRAY|           OTC|  07-11-2019|2600 FASHION AVE,...|  LONG BEACH|SHELTER, NEUTER, ...|     STRAYCATAL|33.8044433|-118.2089339|Alive on Intake|          FALSE|                1|33.8044433, -118....|\n",
            "|  A467379|           LOUIE|        DOG|        BLACK|          BROWN|Neutered|31-05-2004| 12-05-2017|           NORMAL|          STRAY|           OTC|  13-05-2017|2600 HACKETT AVE,...|  LONG BEACH|     RETURN TO OWNER|         WALKIN|33.8052666|-118.1069613|Alive on Intake|          FALSE|                1|33.8052666, -118....|\n",
            "|  A709976| HARLEY DAVIDSON|        DOG|        BLACK|           NULL|Neutered|06-11-2020| 06-11-2023|           NORMAL| WELFARE SEIZED|      HOSPITAL|  24-03-2024|   2600 N STUDEBAKER|  LONG BEACH|            ADOPTION|           NULL|33.8033638|-118.0988918|Alive on Intake|          FALSE|                1|33.8033638, -118....|\n",
            "|  A633274|           DAISY|        DOG|    BLK SMOKE|          BLACK|  Spayed|01-07-2006| 08-09-2019|INJURED  MODERATE|          STRAY|         FIELD|  09-09-2019|2600 N STUDEBAKER...|  LONG BEACH|     RETURN TO OWNER|      MICROCHIP|33.8033638|-118.0988918|Alive on Intake|          FALSE|                1|33.8033638, -118....|\n",
            "|  A643898|         *MORGAN|        DOG|        BLACK|          BROWN|  Spayed|16-06-2012| 15-06-2020|INJURED  MODERATE|          STRAY|         FIELD|  25-06-2020|2600 N STUDEBAKER...|  LONG BEACH|              RESCUE|     KITTYKATCH|33.8033638|-118.0988918|Alive on Intake|          FALSE|                1|33.8033638, -118....|\n",
            "|  A588324|          FERRIS|        CAT|        WHITE|          BLACK|Neutered|08-04-2014| 10-04-2017|         ILL MILD|OWNER SURRENDER|         FIELD|  11-04-2017|2600 N STUDEBAKER...|  LONG BEACH|          EUTHANASIA|     ILL SEVERE|33.8033638|-118.0988918|Alive on Intake|           TRUE|                0|33.8033638, -118....|\n",
            "|  A655550|            KING|        DOG|        BLACK|          BROWN|    Male|28-10-2020| 25-05-2023|           NORMAL|          STRAY|           OTC|  25-05-2023| 2600 STANBRIDGE AVE|  LONG BEACH|     RETURN TO OWNER|           NULL|33.8037436|-118.1294805|Alive on Intake|          FALSE|                1|33.8037436, -118....|\n",
            "|  A642348|            LILY|        CAT|         GRAY|          WHITE|  Spayed|02-05-2019| 02-05-2020|        FRACTIOUS|          STRAY|           OTC|  12-05-2020|2610 N LAKEWOOD B...|  LONG BEACH|            ADOPTION|       REFERRAL|33.8037838|-118.1423875|Alive on Intake|          FALSE|                1|33.80378380000001...|\n",
            "|  A609661|           LAYLA|        DOG|        BROWN|           NULL|  Spayed|14-06-2016| 14-06-2018|           NORMAL|     CONFISCATE|    PUB SAFETY|  13-12-2018|2626 EUCALYPTUS A...|  LONG BEACH|            ADOPTION|         WALKIN|33.8049583|-118.1967604|Alive on Intake|          FALSE|                1|33.8049583, -118....|\n",
            "|  A610945|        PRINCESS|        CAT|    BRN TABBY|         CALICO|  Female|12-07-2013| 12-07-2018|         ILL MILD|OWNER SURRENDER|           OTC|  12-07-2018|269 E CLAIRBORNE ...|  LONG BEACH|          EUTHANASIA|     ILL SEVERE|33.8333879|-118.1899056|Alive on Intake|           TRUE|                0|33.8333879, -118....|\n",
            "|  A671763|         *GIDGET|        DOG|         GRAY|           NULL|  Female|16-03-2016| 16-03-2022|INJURED  MODERATE|          STRAY|           OTC|  31-03-2022|26TH WAY / DE FOR...|  LONG BEACH|              RESCUE|       K9KISMET|  33.80495|-118.2042204|Alive on Intake|          FALSE|                1|33.80495, -118.20...|\n",
            "|  A590316|            NULL|        DOG|        WHITE|            TAN|    Male|15-05-2012| 15-05-2017|           NORMAL|          STRAY|           OTC|  22-05-2017|270 E 57TH ST, LO...|  LONG BEACH|            TRANSFER|         SPCALA|33.8590352|-118.1903626|Alive on Intake|          FALSE|                1|33.8590352, -118....|\n",
            "|  A632788|           UCHIE|        DOG|         GRAY|           NULL|Neutered|30-08-2018| 30-08-2019|           NORMAL|OWNER SURRENDER|           OTC|  09-12-2019|2700 BALCTIC AVE,...|  LONG BEACH|     RETURN TO OWNER|         WALKIN| 33.806243|-118.2132792|Alive on Intake|          FALSE|                1|33.80624299999999...|\n",
            "|  A698612|         *WEIRDO|        DOG|        BROWN|           NULL|    Male|12-05-2018| 11-05-2023|           NORMAL|          STRAY|           OTC|  14-05-2023|2700 BLK CARSON S...|  LONG BEACH|              RESCUE|      HOOLA DOG|  33.83187|-118.1597414|Alive on Intake|          FALSE|                1|33.83187, -118.15...|\n",
            "|  A682142|*KEIRA NIGHT LEE|        DOG|        BLACK|          WHITE|  Female|17-08-2021| 17-08-2022|           NORMAL|          STRAY|           OTC|  28-09-2022|2700 BLK CASPIAN ...|  LONG BEACH|            ADOPTION|           NULL|33.8062492|-118.2121957|Alive on Intake|          FALSE|                1|33.8062492, -118....|\n",
            "|  A596990|            NULL|        CAT|        CREAM|           NULL| Unknown|13-09-2013| 13-09-2017|            FERAL|          STRAY|           OTC|  13-09-2017|2700 BLK CASPIAN ...|  LONG BEACH|          EUTHANASIA|     ILL SEVERE|33.8062492|-118.2121957|Alive on Intake|           TRUE|                0|33.8062492, -118....|\n",
            "|  A617963|           GUERO|        DOG|        BLACK|          WHITE|    Male|24-11-2016| 06-12-2018|    INJURED  MILD|          STRAY|         FIELD|  06-12-2018|2700 BLK DE FORES...|  LONG BEACH|     RETURN TO OWNER|         WALKIN|33.8063692| -118.204019|Alive on Intake|          FALSE|                1|33.8063692, -118....|\n",
            "|  A625592|           BRUNO|        DOG|        BLACK|          WHITE|Neutered|30-04-2011| 30-04-2019|         ILL MILD|      SAFE KEEP|    OWNER DIED|  03-05-2019|2700 BLK E 10TH S...|  LONG BEACH|            TRANSFER|         SPCALA|33.7788443|-118.1597836|Alive on Intake|          FALSE|                1|33.7788443, -118....|\n",
            "|  A654322|      MISS BOOTS|        CAT|         GRAY|          WHITE|  Female|21-02-2012| 21-02-2021|           NORMAL|OWNER SURRENDER|           OTC|  10-03-2021|2700 BLK E 19TH S...| SIGNAL HILL|            ADOPTION|           NULL|33.7916726|-118.1599963|Alive on Intake|          FALSE|                1|33.7916726, -118....|\n",
            "|  A654324|           PINKY|        CAT|        WHITE|           NULL|  Spayed|21-02-2013| 21-02-2021|           NORMAL|OWNER SURRENDER|           OTC|  05-03-2021|2700 BLK E 19TH S...| SIGNAL HILL|            ADOPTION|            WEB|33.7916726|-118.1599963|Alive on Intake|          FALSE|                1|33.7916726, -118....|\n",
            "+---------+----------------+-----------+-------------+---------------+--------+----------+-----------+-----------------+---------------+--------------+------------+--------------------+------------+--------------------+---------------+----------+------------+---------------+---------------+-----------------+--------------------+\n",
            "only showing top 20 rows\n",
            "\n"
          ]
        }
      ]
    },
    {
      "cell_type": "code",
      "source": [
        "df.printSchema()"
      ],
      "metadata": {
        "colab": {
          "base_uri": "https://localhost:8080/"
        },
        "id": "ZDiUMldBtEBp",
        "outputId": "77ec5c4f-9f4d-4733-b090-3b4826ef5e61"
      },
      "execution_count": 7,
      "outputs": [
        {
          "output_type": "stream",
          "name": "stdout",
          "text": [
            "root\n",
            " |-- Animal ID: string (nullable = true)\n",
            " |-- Animal Name: string (nullable = true)\n",
            " |-- Animal Type: string (nullable = true)\n",
            " |-- Primary Color: string (nullable = true)\n",
            " |-- Secondary Color: string (nullable = true)\n",
            " |-- Sex: string (nullable = true)\n",
            " |-- DOB: string (nullable = true)\n",
            " |-- Intake Date: string (nullable = true)\n",
            " |-- Intake Condition: string (nullable = true)\n",
            " |-- Intake Type: string (nullable = true)\n",
            " |-- Intake Subtype: string (nullable = true)\n",
            " |-- Outcome Date: string (nullable = true)\n",
            " |-- Crossing: string (nullable = true)\n",
            " |-- Jurisdiction: string (nullable = true)\n",
            " |-- Outcome Type: string (nullable = true)\n",
            " |-- Outcome Subtype: string (nullable = true)\n",
            " |-- latitude: string (nullable = true)\n",
            " |-- longitude: string (nullable = true)\n",
            " |-- intake_is_dead: string (nullable = true)\n",
            " |-- outcome_is_dead: string (nullable = true)\n",
            " |-- was_outcome_alive: string (nullable = true)\n",
            " |-- geopoint: string (nullable = true)\n",
            "\n"
          ]
        }
      ]
    },
    {
      "source": [
        "print(df.count())"
      ],
      "cell_type": "code",
      "metadata": {
        "colab": {
          "base_uri": "https://localhost:8080/"
        },
        "id": "5ZDvq-CgtEs-",
        "outputId": "67bc641f-b233-4f0e-9c6a-c03a0b20f09d"
      },
      "execution_count": 8,
      "outputs": [
        {
          "output_type": "stream",
          "name": "stdout",
          "text": [
            "14772\n"
          ]
        }
      ]
    },
    {
      "cell_type": "code",
      "source": [
        "print(df.columns)"
      ],
      "metadata": {
        "colab": {
          "base_uri": "https://localhost:8080/"
        },
        "id": "mDfKNHnBy3cN",
        "outputId": "ba87fb19-0081-4af7-b19a-d19762bf7368"
      },
      "execution_count": 9,
      "outputs": [
        {
          "output_type": "stream",
          "name": "stdout",
          "text": [
            "['Animal ID', 'Animal Name', 'Animal Type', 'Primary Color', 'Secondary Color', 'Sex', 'DOB', 'Intake Date', 'Intake Condition', 'Intake Type', 'Intake Subtype', 'Outcome Date', 'Crossing', 'Jurisdiction', 'Outcome Type', 'Outcome Subtype', 'latitude', 'longitude', 'intake_is_dead', 'outcome_is_dead', 'was_outcome_alive', 'geopoint']\n"
          ]
        }
      ]
    },
    {
      "cell_type": "code",
      "source": [
        "df.describe()"
      ],
      "metadata": {
        "colab": {
          "base_uri": "https://localhost:8080/"
        },
        "id": "XM9zu5A6y7sF",
        "outputId": "9ca98742-616e-4a36-faab-5b5ba88371c4"
      },
      "execution_count": 10,
      "outputs": [
        {
          "output_type": "execute_result",
          "data": {
            "text/plain": [
              "DataFrame[summary: string, Animal ID: string, Animal Name: string, Animal Type: string, Primary Color: string, Secondary Color: string, Sex: string, DOB: string, Intake Date: string, Intake Condition: string, Intake Type: string, Intake Subtype: string, Outcome Date: string, Crossing: string, Jurisdiction: string, Outcome Type: string, Outcome Subtype: string, latitude: string, longitude: string, intake_is_dead: string, outcome_is_dead: string, was_outcome_alive: string, geopoint: string]"
            ]
          },
          "metadata": {},
          "execution_count": 10
        }
      ]
    },
    {
      "cell_type": "code",
      "source": [],
      "metadata": {
        "colab": {
          "base_uri": "https://localhost:8080/"
        },
        "id": "XKBlPBYi--Jr",
        "outputId": "47d294f3-2043-4589-fd7e-a02213758e38"
      },
      "execution_count": 35,
      "outputs": [
        {
          "output_type": "execute_result",
          "data": {
            "text/plain": [
              "14772"
            ]
          },
          "metadata": {},
          "execution_count": 35
        }
      ]
    },
    {
      "cell_type": "code",
      "source": [
        "df.select('Animal ID').distinct().show()"
      ],
      "metadata": {
        "colab": {
          "base_uri": "https://localhost:8080/"
        },
        "id": "wJtvMG8xzAAJ",
        "outputId": "eea5b057-4536-4369-c193-0466008f5604"
      },
      "execution_count": 11,
      "outputs": [
        {
          "output_type": "stream",
          "name": "stdout",
          "text": [
            "+---------+\n",
            "|Animal ID|\n",
            "+---------+\n",
            "|  A590316|\n",
            "|  A589089|\n",
            "|  A591104|\n",
            "|  A445853|\n",
            "|  A647616|\n",
            "|  A691569|\n",
            "|  A707988|\n",
            "|  A638480|\n",
            "|  A686773|\n",
            "|  A624631|\n",
            "|  A518350|\n",
            "|  A691317|\n",
            "|  A649902|\n",
            "|  A705327|\n",
            "|  A634135|\n",
            "|  A713588|\n",
            "|  A671578|\n",
            "|  A609975|\n",
            "|  A638946|\n",
            "|  A664963|\n",
            "+---------+\n",
            "only showing top 20 rows\n",
            "\n"
          ]
        }
      ]
    },
    {
      "cell_type": "code",
      "source": [
        "df.select('Animal Name').distinct().show()"
      ],
      "metadata": {
        "colab": {
          "base_uri": "https://localhost:8080/"
        },
        "id": "zXOYI73IzK4h",
        "outputId": "913c32d8-6e79-4cce-a4d4-6e0e0dd2f45b"
      },
      "execution_count": 12,
      "outputs": [
        {
          "output_type": "stream",
          "name": "stdout",
          "text": [
            "+-------------+\n",
            "|  Animal Name|\n",
            "+-------------+\n",
            "|     *POPTART|\n",
            "|        ZIGGY|\n",
            "|       WOLFIE|\n",
            "|         KIKI|\n",
            "|       LITTLE|\n",
            "|       HUNTER|\n",
            "|A628231*AMBER|\n",
            "|       SHUGAR|\n",
            "|    *ESPRESSO|\n",
            "|    PRINCETON|\n",
            "|     *CAMERON|\n",
            "|         JADE|\n",
            "|      MAXWELL|\n",
            "|*BANANNA BLUE|\n",
            "|      *TURTLE|\n",
            "|        SPICE|\n",
            "|         BINX|\n",
            "|       *EBONY|\n",
            "|       *GRETA|\n",
            "|        GIZMO|\n",
            "+-------------+\n",
            "only showing top 20 rows\n",
            "\n"
          ]
        }
      ]
    },
    {
      "cell_type": "code",
      "source": [
        "df.select('Animal Type').distinct().show()"
      ],
      "metadata": {
        "colab": {
          "base_uri": "https://localhost:8080/"
        },
        "id": "q3D8e1bwzRyv",
        "outputId": "304eff1b-6bbb-432e-e647-6a544717b6d2"
      },
      "execution_count": 13,
      "outputs": [
        {
          "output_type": "stream",
          "name": "stdout",
          "text": [
            "+-----------+\n",
            "|Animal Type|\n",
            "+-----------+\n",
            "|        DOG|\n",
            "|        CAT|\n",
            "|       NULL|\n",
            "+-----------+\n",
            "\n"
          ]
        }
      ]
    },
    {
      "cell_type": "code",
      "source": [
        "df=df.na.fill(0)\n",
        "df.show"
      ],
      "metadata": {
        "colab": {
          "base_uri": "https://localhost:8080/",
          "height": 203
        },
        "id": "X2tdY3NWze3W",
        "outputId": "c28cfc0e-66ed-4292-f1cd-3aaad06a8abd"
      },
      "execution_count": 14,
      "outputs": [
        {
          "output_type": "execute_result",
          "data": {
            "text/plain": [
              "<bound method DataFrame.show of DataFrame[Animal ID: string, Animal Name: string, Animal Type: string, Primary Color: string, Secondary Color: string, Sex: string, DOB: string, Intake Date: string, Intake Condition: string, Intake Type: string, Intake Subtype: string, Outcome Date: string, Crossing: string, Jurisdiction: string, Outcome Type: string, Outcome Subtype: string, latitude: string, longitude: string, intake_is_dead: string, outcome_is_dead: string, was_outcome_alive: string, geopoint: string]>"
            ],
            "text/html": [
              "<div style=\"max-width:800px; border: 1px solid var(--colab-border-color);\"><style>\n",
              "      pre.function-repr-contents {\n",
              "        overflow-x: auto;\n",
              "        padding: 8px 12px;\n",
              "        max-height: 500px;\n",
              "      }\n",
              "\n",
              "      pre.function-repr-contents.function-repr-contents-collapsed {\n",
              "        cursor: pointer;\n",
              "        max-height: 100px;\n",
              "      }\n",
              "    </style>\n",
              "    <pre style=\"white-space: initial; background:\n",
              "         var(--colab-secondary-surface-color); padding: 8px 12px;\n",
              "         border-bottom: 1px solid var(--colab-border-color);\"><b>pyspark.sql.dataframe.DataFrame.show</b><br/>def show(n: int=20, truncate: Union[bool, int]=True, vertical: bool=False) -&gt; None</pre><pre class=\"function-repr-contents function-repr-contents-collapsed\" style=\"\"><a class=\"filepath\" style=\"display:none\" href=\"#\">/usr/local/lib/python3.10/dist-packages/pyspark/sql/dataframe.py</a>Prints the first ``n`` rows to the console.\n",
              "\n",
              ".. versionadded:: 1.3.0\n",
              "\n",
              ".. versionchanged:: 3.4.0\n",
              "    Supports Spark Connect.\n",
              "\n",
              "Parameters\n",
              "----------\n",
              "n : int, optional\n",
              "    Number of rows to show.\n",
              "truncate : bool or int, optional\n",
              "    If set to ``True``, truncate strings longer than 20 chars by default.\n",
              "    If set to a number greater than one, truncates long strings to length ``truncate``\n",
              "    and align cells right.\n",
              "vertical : bool, optional\n",
              "    If set to ``True``, print output rows vertically (one line\n",
              "    per column value).\n",
              "\n",
              "Examples\n",
              "--------\n",
              "&gt;&gt;&gt; df = spark.createDataFrame([\n",
              "...     (14, &quot;Tom&quot;), (23, &quot;Alice&quot;), (16, &quot;Bob&quot;)], [&quot;age&quot;, &quot;name&quot;])\n",
              "\n",
              "Show only top 2 rows.\n",
              "\n",
              "&gt;&gt;&gt; df.show(2)\n",
              "+---+-----+\n",
              "|age| name|\n",
              "+---+-----+\n",
              "| 14|  Tom|\n",
              "| 23|Alice|\n",
              "+---+-----+\n",
              "only showing top 2 rows\n",
              "\n",
              "Show :class:`DataFrame` where the maximum number of characters is 3.\n",
              "\n",
              "&gt;&gt;&gt; df.show(truncate=3)\n",
              "+---+----+\n",
              "|age|name|\n",
              "+---+----+\n",
              "| 14| Tom|\n",
              "| 23| Ali|\n",
              "| 16| Bob|\n",
              "+---+----+\n",
              "\n",
              "Show :class:`DataFrame` vertically.\n",
              "\n",
              "&gt;&gt;&gt; df.show(vertical=True)\n",
              "-RECORD 0-----\n",
              "age  | 14\n",
              "name | Tom\n",
              "-RECORD 1-----\n",
              "age  | 23\n",
              "name | Alice\n",
              "-RECORD 2-----\n",
              "age  | 16\n",
              "name | Bob</pre>\n",
              "      <script>\n",
              "      if (google.colab.kernel.accessAllowed && google.colab.files && google.colab.files.view) {\n",
              "        for (const element of document.querySelectorAll('.filepath')) {\n",
              "          element.style.display = 'block'\n",
              "          element.onclick = (event) => {\n",
              "            event.preventDefault();\n",
              "            event.stopPropagation();\n",
              "            google.colab.files.view(element.textContent, 887);\n",
              "          };\n",
              "        }\n",
              "      }\n",
              "      for (const element of document.querySelectorAll('.function-repr-contents')) {\n",
              "        element.onclick = (event) => {\n",
              "          event.preventDefault();\n",
              "          event.stopPropagation();\n",
              "          element.classList.toggle('function-repr-contents-collapsed');\n",
              "        };\n",
              "      }\n",
              "      </script>\n",
              "      </div>"
            ]
          },
          "metadata": {},
          "execution_count": 14
        }
      ]
    },
    {
      "cell_type": "code",
      "source": [
        "df_cleaned = df.dropna(subset=[\"Animal Name\", \"Intake Date\"])\n",
        "\n",
        "# Fill missing values in other columns like 'Secondary Color' with a default value\n",
        "df_cleaned = df.fillna({\"Secondary Color\": \"Unknown\"})"
      ],
      "metadata": {
        "id": "GORNlo7J_X6p"
      },
      "execution_count": 38,
      "outputs": []
    },
    {
      "cell_type": "code",
      "source": [
        "from pyspark.sql.functions import to_date\n",
        "\n",
        "# Convert date columns to proper date format\n",
        "df_cleaned = df_cleaned.withColumn(\"DOB\", to_date(df[\"DOB\"], \"yyyy-MM-dd\"))\n",
        "df_cleaned = df_cleaned.withColumn(\"Intake Date\", to_date(df[\"Intake Date\"], \"yyyy-MM-dd\"))\n",
        "df_cleaned = df_cleaned.withColumn(\"Outcome Date\", to_date(df[\"Outcome Date\"], \"yyyy-MM-dd\"))\n",
        "\n",
        "df_cleaned.printSchema()\n"
      ],
      "metadata": {
        "colab": {
          "base_uri": "https://localhost:8080/"
        },
        "id": "CQ5X5HKw_gJ-",
        "outputId": "28a067d4-0a1e-4580-d102-40340c304585"
      },
      "execution_count": 39,
      "outputs": [
        {
          "output_type": "stream",
          "name": "stdout",
          "text": [
            "root\n",
            " |-- Animal ID: string (nullable = true)\n",
            " |-- Animal Name: string (nullable = true)\n",
            " |-- Animal Type: string (nullable = true)\n",
            " |-- Primary Color: string (nullable = true)\n",
            " |-- Secondary Color: string (nullable = true)\n",
            " |-- Sex: string (nullable = true)\n",
            " |-- DOB: date (nullable = true)\n",
            " |-- Intake Date: date (nullable = true)\n",
            " |-- Intake Condition: string (nullable = true)\n",
            " |-- Intake Type: string (nullable = true)\n",
            " |-- Intake Subtype: string (nullable = true)\n",
            " |-- Outcome Date: date (nullable = true)\n",
            " |-- Crossing: string (nullable = true)\n",
            " |-- Jurisdiction: string (nullable = true)\n",
            " |-- Outcome Type: string (nullable = true)\n",
            " |-- Outcome Subtype: string (nullable = true)\n",
            " |-- latitude: string (nullable = true)\n",
            " |-- longitude: string (nullable = true)\n",
            " |-- intake_is_dead: string (nullable = true)\n",
            " |-- outcome_is_dead: string (nullable = true)\n",
            " |-- was_outcome_alive: string (nullable = true)\n",
            " |-- geopoint: string (nullable = true)\n",
            "\n"
          ]
        }
      ]
    },
    {
      "cell_type": "code",
      "source": [
        "from pyspark.sql.functions import first\n",
        "\n",
        "grouped_df = df.groupBy(\"Animal ID\").agg(first(\"Animal Type\").alias(\"Animal Type\"))\n",
        "grouped_df.show()"
      ],
      "metadata": {
        "colab": {
          "base_uri": "https://localhost:8080/"
        },
        "id": "H1i2Puz1zjcf",
        "outputId": "1ae91b3c-84b5-454d-b407-a51cacea5ede"
      },
      "execution_count": 20,
      "outputs": [
        {
          "output_type": "stream",
          "name": "stdout",
          "text": [
            "+---------+-----------+\n",
            "|Animal ID|Animal Type|\n",
            "+---------+-----------+\n",
            "|     NULL|       NULL|\n",
            "|  A002500|        DOG|\n",
            "|  A223959|        DOG|\n",
            "|  A229745|        DOG|\n",
            "|  A252701|        DOG|\n",
            "|  A275126|        DOG|\n",
            "|  A279626|        DOG|\n",
            "|  A283453|        DOG|\n",
            "|  A283615|        DOG|\n",
            "|  A288844|        DOG|\n",
            "|  A306552|        DOG|\n",
            "|  A307318|        DOG|\n",
            "|  A320668|        DOG|\n",
            "|  A331451|        DOG|\n",
            "|  A331619|        DOG|\n",
            "|  A332072|        DOG|\n",
            "|  A343907|        DOG|\n",
            "|  A346750|        DOG|\n",
            "|  A359367|        DOG|\n",
            "|  A362312|        DOG|\n",
            "+---------+-----------+\n",
            "only showing top 20 rows\n",
            "\n"
          ]
        }
      ]
    },
    {
      "cell_type": "code",
      "source": [
        "from pyspark.sql.functions import first\n",
        "\n",
        "grouped_df = df.groupBy(\"Animal ID\").agg(first(\"Animal Name\").alias(\"Animal Name\"))\n",
        "grouped_df.show()"
      ],
      "metadata": {
        "colab": {
          "base_uri": "https://localhost:8080/"
        },
        "id": "0VOQBuUk0TJ3",
        "outputId": "48f91e72-3916-4f11-d339-858dbd296635"
      },
      "execution_count": 19,
      "outputs": [
        {
          "output_type": "stream",
          "name": "stdout",
          "text": [
            "+---------+-----------+\n",
            "|Animal ID|Animal Name|\n",
            "+---------+-----------+\n",
            "|     NULL|       NULL|\n",
            "|  A002500|   PENELOPE|\n",
            "|  A223959|      SUGAR|\n",
            "|  A229745|   PRECIOUS|\n",
            "|  A252701|    UNKNOWN|\n",
            "|  A275126|       CUJO|\n",
            "|  A279626|       LANE|\n",
            "|  A283453|      CISCO|\n",
            "|  A283615|       TOBY|\n",
            "|  A288844|      MOLLY|\n",
            "|  A306552|     JAVIER|\n",
            "|  A307318|      DEWEY|\n",
            "|  A320668|       HULK|\n",
            "|  A331451|     PRINCE|\n",
            "|  A331619|    SCRUFFY|\n",
            "|  A332072|       ZOEY|\n",
            "|  A343907|      GOOFY|\n",
            "|  A346750|       LILO|\n",
            "|  A359367|    COCQUIS|\n",
            "|  A362312|     BOWSER|\n",
            "+---------+-----------+\n",
            "only showing top 20 rows\n",
            "\n"
          ]
        }
      ]
    },
    {
      "cell_type": "code",
      "source": [
        "from pyspark.sql.functions import year, datediff\n",
        "\n",
        "# Calculate the age in days based on DOB and Intake Date\n",
        "df_cleaned = df_cleaned.withColumn(\"age_at_intake\", datediff(df_cleaned[\"Intake Date\"], df_cleaned[\"DOB\"]))\n",
        "\n",
        "# Average age at intake by animal type\n",
        "df_cleaned.groupBy(\"Animal Type\").avg(\"age_at_intake\").show()\n"
      ],
      "metadata": {
        "colab": {
          "base_uri": "https://localhost:8080/"
        },
        "id": "bcujm3jX_qNx",
        "outputId": "437b820a-9251-4578-f139-ac5ab4568c6b"
      },
      "execution_count": 40,
      "outputs": [
        {
          "output_type": "stream",
          "name": "stdout",
          "text": [
            "+-----------+------------------+\n",
            "|Animal Type|avg(age_at_intake)|\n",
            "+-----------+------------------+\n",
            "|        DOG|              NULL|\n",
            "|        CAT|              NULL|\n",
            "+-----------+------------------+\n",
            "\n"
          ]
        }
      ]
    },
    {
      "cell_type": "code",
      "source": [
        "df_cleaned.groupBy(\"Intake Condition\", \"Intake Type\").count().show()\n"
      ],
      "metadata": {
        "colab": {
          "base_uri": "https://localhost:8080/"
        },
        "id": "Zstbomeu_xew",
        "outputId": "66fb0a7e-d382-4eed-ab8e-beb9468445d7"
      },
      "execution_count": 41,
      "outputs": [
        {
          "output_type": "stream",
          "name": "stdout",
          "text": [
            "+------------------+---------------+-----+\n",
            "|  Intake Condition|    Intake Type|count|\n",
            "+------------------+---------------+-----+\n",
            "|        ILL SEVERE|     CONFISCATE|    3|\n",
            "|BEHAVIOR  MODERATE|         RETURN|    4|\n",
            "|         FRACTIOUS|          STRAY|  115|\n",
            "|            NORMAL|         RETURN|   43|\n",
            "|         FRACTIOUS|      SAFE KEEP|    1|\n",
            "|         FRACTIOUS|     QUARANTINE|    1|\n",
            "|BEHAVIOR  MODERATE|OWNER SURRENDER|   19|\n",
            "|     INJURED  MILD|     CONFISCATE|    1|\n",
            "|  BEHAVIOR  SEVERE|          STRAY|    3|\n",
            "|BEHAVIOR  MODERATE| WELFARE SEIZED|    1|\n",
            "|  WELFARE SEIZURES|     CONFISCATE|    6|\n",
            "|    BEHAVIOR  MILD|          STRAY|    3|\n",
            "|     INJURED  MILD|         RETURN|    1|\n",
            "|  UNDER AGE/WEIGHT|          STRAY|  461|\n",
            "|  BEHAVIOR  SEVERE|OWNER SURRENDER|    9|\n",
            "|          ILL MILD|     CONFISCATE|    1|\n",
            "|             FERAL|OWNER SURRENDER|    1|\n",
            "|          ILL MILD|      SAFE KEEP|    1|\n",
            "|            NORMAL| WELFARE SEIZED|   67|\n",
            "|          ILL MILD|          STRAY|  145|\n",
            "+------------------+---------------+-----+\n",
            "only showing top 20 rows\n",
            "\n"
          ]
        }
      ]
    },
    {
      "cell_type": "code",
      "source": [
        "dogs_df = df_cleaned.filter(df_cleaned[\"Animal Type\"] == \"Dog\")\n",
        "dogs_df.show(5)\n"
      ],
      "metadata": {
        "colab": {
          "base_uri": "https://localhost:8080/"
        },
        "id": "JV2mCrP-_0_E",
        "outputId": "ab1a17b5-5afc-434e-cc78-8bdbb6399b11"
      },
      "execution_count": 42,
      "outputs": [
        {
          "output_type": "stream",
          "name": "stdout",
          "text": [
            "+---------+-----------+-----------+-------------+---------------+---+---+-----------+----------------+-----------+--------------+------------+--------+------------+------------+---------------+--------+---------+--------------+---------------+-----------------+--------+-------------+\n",
            "|Animal ID|Animal Name|Animal Type|Primary Color|Secondary Color|Sex|DOB|Intake Date|Intake Condition|Intake Type|Intake Subtype|Outcome Date|Crossing|Jurisdiction|Outcome Type|Outcome Subtype|latitude|longitude|intake_is_dead|outcome_is_dead|was_outcome_alive|geopoint|age_at_intake|\n",
            "+---------+-----------+-----------+-------------+---------------+---+---+-----------+----------------+-----------+--------------+------------+--------+------------+------------+---------------+--------+---------+--------------+---------------+-----------------+--------+-------------+\n",
            "+---------+-----------+-----------+-------------+---------------+---+---+-----------+----------------+-----------+--------------+------------+--------+------------+------------+---------------+--------+---------+--------------+---------------+-----------------+--------+-------------+\n",
            "\n"
          ]
        }
      ]
    },
    {
      "cell_type": "code",
      "source": [
        "from pyspark.sql.functions import lit\n",
        "\n",
        "df_cleaned.filter(df_cleaned[\"Intake Date\"] > lit(\"2023-01-01\")).show(5)\n"
      ],
      "metadata": {
        "colab": {
          "base_uri": "https://localhost:8080/"
        },
        "id": "LRRm5W7Q_6b8",
        "outputId": "50442ed5-de66-41e5-cdb0-49ebcc0cac13"
      },
      "execution_count": 43,
      "outputs": [
        {
          "output_type": "stream",
          "name": "stdout",
          "text": [
            "+---------+-----------+-----------+-------------+---------------+---+---+-----------+----------------+-----------+--------------+------------+--------+------------+------------+---------------+--------+---------+--------------+---------------+-----------------+--------+-------------+\n",
            "|Animal ID|Animal Name|Animal Type|Primary Color|Secondary Color|Sex|DOB|Intake Date|Intake Condition|Intake Type|Intake Subtype|Outcome Date|Crossing|Jurisdiction|Outcome Type|Outcome Subtype|latitude|longitude|intake_is_dead|outcome_is_dead|was_outcome_alive|geopoint|age_at_intake|\n",
            "+---------+-----------+-----------+-------------+---------------+---+---+-----------+----------------+-----------+--------------+------------+--------+------------+------------+---------------+--------+---------+--------------+---------------+-----------------+--------+-------------+\n",
            "+---------+-----------+-----------+-------------+---------------+---+---+-----------+----------------+-----------+--------------+------------+--------+------------+------------+---------------+--------+---------+--------------+---------------+-----------------+--------+-------------+\n",
            "\n"
          ]
        }
      ]
    },
    {
      "cell_type": "code",
      "source": [
        "from pyspark.sql.window import Window\n",
        "from pyspark.sql.functions import row_number\n",
        "\n",
        "# Define window specification\n",
        "windowSpec = Window.partitionBy(\"Animal Type\").orderBy(df_cleaned[\"Intake Date\"])\n",
        "\n",
        "# Add rank based on intake date within each animal type\n",
        "df_ranked = df_cleaned.withColumn(\"rank\", row_number().over(windowSpec))\n",
        "df_ranked.show(5)\n"
      ],
      "metadata": {
        "colab": {
          "base_uri": "https://localhost:8080/"
        },
        "id": "6Ysz-_ZbAKyn",
        "outputId": "8c74ddd6-4b04-44b5-8d11-9775b5e51c92"
      },
      "execution_count": 44,
      "outputs": [
        {
          "output_type": "stream",
          "name": "stdout",
          "text": [
            "+---------+-----------+-----------+-------------+---------------+--------+----+-----------+----------------+---------------+--------------+------------+--------------------+------------+--------------------+---------------+----------+------------+---------------+---------------+-----------------+--------------------+-------------+----+\n",
            "|Animal ID|Animal Name|Animal Type|Primary Color|Secondary Color|     Sex| DOB|Intake Date|Intake Condition|    Intake Type|Intake Subtype|Outcome Date|            Crossing|Jurisdiction|        Outcome Type|Outcome Subtype|  latitude|   longitude| intake_is_dead|outcome_is_dead|was_outcome_alive|            geopoint|age_at_intake|rank|\n",
            "+---------+-----------+-----------+-------------+---------------+--------+----+-----------+----------------+---------------+--------------+------------+--------------------+------------+--------------------+---------------+----------+------------+---------------+---------------+-----------------+--------------------+-------------+----+\n",
            "|  A635662|    A635662|        CAT|    ORG TABBY|           NULL|Neutered|NULL|       NULL|          NORMAL|          STRAY|           OTC|        NULL|2600 FASHION AVE,...|  LONG BEACH|SHELTER, NEUTER, ...|     STRAYCATAL|33.8044433|-118.2089339|Alive on Intake|          FALSE|                1|33.8044433, -118....|         NULL|   1|\n",
            "|  A588324|     FERRIS|        CAT|        WHITE|          BLACK|Neutered|NULL|       NULL|        ILL MILD|OWNER SURRENDER|         FIELD|        NULL|2600 N STUDEBAKER...|  LONG BEACH|          EUTHANASIA|     ILL SEVERE|33.8033638|-118.0988918|Alive on Intake|           TRUE|                0|33.8033638, -118....|         NULL|   2|\n",
            "|  A642348|       LILY|        CAT|         GRAY|          WHITE|  Spayed|NULL|       NULL|       FRACTIOUS|          STRAY|           OTC|        NULL|2610 N LAKEWOOD B...|  LONG BEACH|            ADOPTION|       REFERRAL|33.8037838|-118.1423875|Alive on Intake|          FALSE|                1|33.80378380000001...|         NULL|   3|\n",
            "|  A610945|   PRINCESS|        CAT|    BRN TABBY|         CALICO|  Female|NULL|       NULL|        ILL MILD|OWNER SURRENDER|           OTC|        NULL|269 E CLAIRBORNE ...|  LONG BEACH|          EUTHANASIA|     ILL SEVERE|33.8333879|-118.1899056|Alive on Intake|           TRUE|                0|33.8333879, -118....|         NULL|   4|\n",
            "|  A654322| MISS BOOTS|        CAT|         GRAY|          WHITE|  Female|NULL|       NULL|          NORMAL|OWNER SURRENDER|           OTC|        NULL|2700 BLK E 19TH S...| SIGNAL HILL|            ADOPTION|           NULL|33.7916726|-118.1599963|Alive on Intake|          FALSE|                1|33.7916726, -118....|         NULL|   5|\n",
            "+---------+-----------+-----------+-------------+---------------+--------+----+-----------+----------------+---------------+--------------+------------+--------------------+------------+--------------------+---------------+----------+------------+---------------+---------------+-----------------+--------------------+-------------+----+\n",
            "only showing top 5 rows\n",
            "\n"
          ]
        }
      ]
    },
    {
      "cell_type": "code",
      "source": [
        "# Example: Filter animals taken in within a specific geographic area\n",
        "df_filtered_geo = df_cleaned.filter(\n",
        "    (df_cleaned[\"latitude\"] > lit(30.0)) &\n",
        "    (df_cleaned[\"latitude\"] < lit(35.0)) &\n",
        "    (df_cleaned[\"longitude\"] > lit(-100.0)) &\n",
        "    (df_cleaned[\"longitude\"] < lit(-90.0))\n",
        ")\n",
        "df_filtered_geo.show()\n"
      ],
      "metadata": {
        "colab": {
          "base_uri": "https://localhost:8080/"
        },
        "id": "4wQ_iu9pAQW2",
        "outputId": "ea9c806f-685d-4a52-dc77-5a7ef938f735"
      },
      "execution_count": 45,
      "outputs": [
        {
          "output_type": "stream",
          "name": "stdout",
          "text": [
            "+---------+-----------+-----------+-------------+---------------+---+---+-----------+----------------+-----------+--------------+------------+--------+------------+------------+---------------+--------+---------+--------------+---------------+-----------------+--------+-------------+\n",
            "|Animal ID|Animal Name|Animal Type|Primary Color|Secondary Color|Sex|DOB|Intake Date|Intake Condition|Intake Type|Intake Subtype|Outcome Date|Crossing|Jurisdiction|Outcome Type|Outcome Subtype|latitude|longitude|intake_is_dead|outcome_is_dead|was_outcome_alive|geopoint|age_at_intake|\n",
            "+---------+-----------+-----------+-------------+---------------+---+---+-----------+----------------+-----------+--------------+------------+--------+------------+------------+---------------+--------+---------+--------------+---------------+-----------------+--------+-------------+\n",
            "+---------+-----------+-----------+-------------+---------------+---+---+-----------+----------------+-----------+--------------+------------+--------+------------+------------+---------------+--------+---------+--------------+---------------+-----------------+--------+-------------+\n",
            "\n"
          ]
        }
      ]
    },
    {
      "cell_type": "code",
      "source": [
        "df1=df.toPandas()\n",
        "df1.head()"
      ],
      "metadata": {
        "colab": {
          "base_uri": "https://localhost:8080/",
          "height": 585
        },
        "id": "neGp2H3h1di9",
        "outputId": "79eed328-65a6-478d-f7be-562befbd5f8b"
      },
      "execution_count": 21,
      "outputs": [
        {
          "output_type": "execute_result",
          "data": {
            "text/plain": [
              "  Animal ID      Animal Name Animal Type Primary Color Secondary Color  \\\n",
              "0   A635662          A635662         CAT     ORG TABBY            None   \n",
              "1   A467379            LOUIE         DOG         BLACK           BROWN   \n",
              "2   A709976  HARLEY DAVIDSON         DOG         BLACK            None   \n",
              "3   A633274            DAISY         DOG     BLK SMOKE           BLACK   \n",
              "4   A643898          *MORGAN         DOG         BLACK           BROWN   \n",
              "\n",
              "        Sex         DOB Intake Date   Intake Condition     Intake Type  ...  \\\n",
              "0  Neutered  04-11-2016  04-11-2019             NORMAL           STRAY  ...   \n",
              "1  Neutered  31-05-2004  12-05-2017             NORMAL           STRAY  ...   \n",
              "2  Neutered  06-11-2020  06-11-2023             NORMAL  WELFARE SEIZED  ...   \n",
              "3    Spayed  01-07-2006  08-09-2019  INJURED  MODERATE           STRAY  ...   \n",
              "4    Spayed  16-06-2012  15-06-2020  INJURED  MODERATE           STRAY  ...   \n",
              "\n",
              "                                     Crossing Jurisdiction  \\\n",
              "0      2600 FASHION AVE, LONG BEACH, CA 90810   LONG BEACH   \n",
              "1      2600 HACKETT AVE, LONG BEACH, CA 90815   LONG BEACH   \n",
              "2                           2600 N STUDEBAKER   LONG BEACH   \n",
              "3  2600 N STUDEBAKER RD, LONG BEACH, CA 90815   LONG BEACH   \n",
              "4  2600 N STUDEBAKER RD, LONG BEACH, CA 90815   LONG BEACH   \n",
              "\n",
              "              Outcome Type Outcome Subtype    latitude     longitude  \\\n",
              "0  SHELTER, NEUTER, RETURN      STRAYCATAL  33.8044433  -118.2089339   \n",
              "1          RETURN TO OWNER          WALKIN  33.8052666  -118.1069613   \n",
              "2                 ADOPTION            None  33.8033638  -118.0988918   \n",
              "3          RETURN TO OWNER       MICROCHIP  33.8033638  -118.0988918   \n",
              "4                   RESCUE      KITTYKATCH  33.8033638  -118.0988918   \n",
              "\n",
              "    intake_is_dead outcome_is_dead was_outcome_alive                  geopoint  \n",
              "0  Alive on Intake           FALSE                 1  33.8044433, -118.2089339  \n",
              "1  Alive on Intake           FALSE                 1  33.8052666, -118.1069613  \n",
              "2  Alive on Intake           FALSE                 1  33.8033638, -118.0988918  \n",
              "3  Alive on Intake           FALSE                 1  33.8033638, -118.0988918  \n",
              "4  Alive on Intake           FALSE                 1  33.8033638, -118.0988918  \n",
              "\n",
              "[5 rows x 22 columns]"
            ],
            "text/html": [
              "\n",
              "  <div id=\"df-a59c30c2-1ef0-432f-bb98-a97365425631\" class=\"colab-df-container\">\n",
              "    <div>\n",
              "<style scoped>\n",
              "    .dataframe tbody tr th:only-of-type {\n",
              "        vertical-align: middle;\n",
              "    }\n",
              "\n",
              "    .dataframe tbody tr th {\n",
              "        vertical-align: top;\n",
              "    }\n",
              "\n",
              "    .dataframe thead th {\n",
              "        text-align: right;\n",
              "    }\n",
              "</style>\n",
              "<table border=\"1\" class=\"dataframe\">\n",
              "  <thead>\n",
              "    <tr style=\"text-align: right;\">\n",
              "      <th></th>\n",
              "      <th>Animal ID</th>\n",
              "      <th>Animal Name</th>\n",
              "      <th>Animal Type</th>\n",
              "      <th>Primary Color</th>\n",
              "      <th>Secondary Color</th>\n",
              "      <th>Sex</th>\n",
              "      <th>DOB</th>\n",
              "      <th>Intake Date</th>\n",
              "      <th>Intake Condition</th>\n",
              "      <th>Intake Type</th>\n",
              "      <th>...</th>\n",
              "      <th>Crossing</th>\n",
              "      <th>Jurisdiction</th>\n",
              "      <th>Outcome Type</th>\n",
              "      <th>Outcome Subtype</th>\n",
              "      <th>latitude</th>\n",
              "      <th>longitude</th>\n",
              "      <th>intake_is_dead</th>\n",
              "      <th>outcome_is_dead</th>\n",
              "      <th>was_outcome_alive</th>\n",
              "      <th>geopoint</th>\n",
              "    </tr>\n",
              "  </thead>\n",
              "  <tbody>\n",
              "    <tr>\n",
              "      <th>0</th>\n",
              "      <td>A635662</td>\n",
              "      <td>A635662</td>\n",
              "      <td>CAT</td>\n",
              "      <td>ORG TABBY</td>\n",
              "      <td>None</td>\n",
              "      <td>Neutered</td>\n",
              "      <td>04-11-2016</td>\n",
              "      <td>04-11-2019</td>\n",
              "      <td>NORMAL</td>\n",
              "      <td>STRAY</td>\n",
              "      <td>...</td>\n",
              "      <td>2600 FASHION AVE, LONG BEACH, CA 90810</td>\n",
              "      <td>LONG BEACH</td>\n",
              "      <td>SHELTER, NEUTER, RETURN</td>\n",
              "      <td>STRAYCATAL</td>\n",
              "      <td>33.8044433</td>\n",
              "      <td>-118.2089339</td>\n",
              "      <td>Alive on Intake</td>\n",
              "      <td>FALSE</td>\n",
              "      <td>1</td>\n",
              "      <td>33.8044433, -118.2089339</td>\n",
              "    </tr>\n",
              "    <tr>\n",
              "      <th>1</th>\n",
              "      <td>A467379</td>\n",
              "      <td>LOUIE</td>\n",
              "      <td>DOG</td>\n",
              "      <td>BLACK</td>\n",
              "      <td>BROWN</td>\n",
              "      <td>Neutered</td>\n",
              "      <td>31-05-2004</td>\n",
              "      <td>12-05-2017</td>\n",
              "      <td>NORMAL</td>\n",
              "      <td>STRAY</td>\n",
              "      <td>...</td>\n",
              "      <td>2600 HACKETT AVE, LONG BEACH, CA 90815</td>\n",
              "      <td>LONG BEACH</td>\n",
              "      <td>RETURN TO OWNER</td>\n",
              "      <td>WALKIN</td>\n",
              "      <td>33.8052666</td>\n",
              "      <td>-118.1069613</td>\n",
              "      <td>Alive on Intake</td>\n",
              "      <td>FALSE</td>\n",
              "      <td>1</td>\n",
              "      <td>33.8052666, -118.1069613</td>\n",
              "    </tr>\n",
              "    <tr>\n",
              "      <th>2</th>\n",
              "      <td>A709976</td>\n",
              "      <td>HARLEY DAVIDSON</td>\n",
              "      <td>DOG</td>\n",
              "      <td>BLACK</td>\n",
              "      <td>None</td>\n",
              "      <td>Neutered</td>\n",
              "      <td>06-11-2020</td>\n",
              "      <td>06-11-2023</td>\n",
              "      <td>NORMAL</td>\n",
              "      <td>WELFARE SEIZED</td>\n",
              "      <td>...</td>\n",
              "      <td>2600 N STUDEBAKER</td>\n",
              "      <td>LONG BEACH</td>\n",
              "      <td>ADOPTION</td>\n",
              "      <td>None</td>\n",
              "      <td>33.8033638</td>\n",
              "      <td>-118.0988918</td>\n",
              "      <td>Alive on Intake</td>\n",
              "      <td>FALSE</td>\n",
              "      <td>1</td>\n",
              "      <td>33.8033638, -118.0988918</td>\n",
              "    </tr>\n",
              "    <tr>\n",
              "      <th>3</th>\n",
              "      <td>A633274</td>\n",
              "      <td>DAISY</td>\n",
              "      <td>DOG</td>\n",
              "      <td>BLK SMOKE</td>\n",
              "      <td>BLACK</td>\n",
              "      <td>Spayed</td>\n",
              "      <td>01-07-2006</td>\n",
              "      <td>08-09-2019</td>\n",
              "      <td>INJURED  MODERATE</td>\n",
              "      <td>STRAY</td>\n",
              "      <td>...</td>\n",
              "      <td>2600 N STUDEBAKER RD, LONG BEACH, CA 90815</td>\n",
              "      <td>LONG BEACH</td>\n",
              "      <td>RETURN TO OWNER</td>\n",
              "      <td>MICROCHIP</td>\n",
              "      <td>33.8033638</td>\n",
              "      <td>-118.0988918</td>\n",
              "      <td>Alive on Intake</td>\n",
              "      <td>FALSE</td>\n",
              "      <td>1</td>\n",
              "      <td>33.8033638, -118.0988918</td>\n",
              "    </tr>\n",
              "    <tr>\n",
              "      <th>4</th>\n",
              "      <td>A643898</td>\n",
              "      <td>*MORGAN</td>\n",
              "      <td>DOG</td>\n",
              "      <td>BLACK</td>\n",
              "      <td>BROWN</td>\n",
              "      <td>Spayed</td>\n",
              "      <td>16-06-2012</td>\n",
              "      <td>15-06-2020</td>\n",
              "      <td>INJURED  MODERATE</td>\n",
              "      <td>STRAY</td>\n",
              "      <td>...</td>\n",
              "      <td>2600 N STUDEBAKER RD, LONG BEACH, CA 90815</td>\n",
              "      <td>LONG BEACH</td>\n",
              "      <td>RESCUE</td>\n",
              "      <td>KITTYKATCH</td>\n",
              "      <td>33.8033638</td>\n",
              "      <td>-118.0988918</td>\n",
              "      <td>Alive on Intake</td>\n",
              "      <td>FALSE</td>\n",
              "      <td>1</td>\n",
              "      <td>33.8033638, -118.0988918</td>\n",
              "    </tr>\n",
              "  </tbody>\n",
              "</table>\n",
              "<p>5 rows × 22 columns</p>\n",
              "</div>\n",
              "    <div class=\"colab-df-buttons\">\n",
              "\n",
              "  <div class=\"colab-df-container\">\n",
              "    <button class=\"colab-df-convert\" onclick=\"convertToInteractive('df-a59c30c2-1ef0-432f-bb98-a97365425631')\"\n",
              "            title=\"Convert this dataframe to an interactive table.\"\n",
              "            style=\"display:none;\">\n",
              "\n",
              "  <svg xmlns=\"http://www.w3.org/2000/svg\" height=\"24px\" viewBox=\"0 -960 960 960\">\n",
              "    <path d=\"M120-120v-720h720v720H120Zm60-500h600v-160H180v160Zm220 220h160v-160H400v160Zm0 220h160v-160H400v160ZM180-400h160v-160H180v160Zm440 0h160v-160H620v160ZM180-180h160v-160H180v160Zm440 0h160v-160H620v160Z\"/>\n",
              "  </svg>\n",
              "    </button>\n",
              "\n",
              "  <style>\n",
              "    .colab-df-container {\n",
              "      display:flex;\n",
              "      gap: 12px;\n",
              "    }\n",
              "\n",
              "    .colab-df-convert {\n",
              "      background-color: #E8F0FE;\n",
              "      border: none;\n",
              "      border-radius: 50%;\n",
              "      cursor: pointer;\n",
              "      display: none;\n",
              "      fill: #1967D2;\n",
              "      height: 32px;\n",
              "      padding: 0 0 0 0;\n",
              "      width: 32px;\n",
              "    }\n",
              "\n",
              "    .colab-df-convert:hover {\n",
              "      background-color: #E2EBFA;\n",
              "      box-shadow: 0px 1px 2px rgba(60, 64, 67, 0.3), 0px 1px 3px 1px rgba(60, 64, 67, 0.15);\n",
              "      fill: #174EA6;\n",
              "    }\n",
              "\n",
              "    .colab-df-buttons div {\n",
              "      margin-bottom: 4px;\n",
              "    }\n",
              "\n",
              "    [theme=dark] .colab-df-convert {\n",
              "      background-color: #3B4455;\n",
              "      fill: #D2E3FC;\n",
              "    }\n",
              "\n",
              "    [theme=dark] .colab-df-convert:hover {\n",
              "      background-color: #434B5C;\n",
              "      box-shadow: 0px 1px 3px 1px rgba(0, 0, 0, 0.15);\n",
              "      filter: drop-shadow(0px 1px 2px rgba(0, 0, 0, 0.3));\n",
              "      fill: #FFFFFF;\n",
              "    }\n",
              "  </style>\n",
              "\n",
              "    <script>\n",
              "      const buttonEl =\n",
              "        document.querySelector('#df-a59c30c2-1ef0-432f-bb98-a97365425631 button.colab-df-convert');\n",
              "      buttonEl.style.display =\n",
              "        google.colab.kernel.accessAllowed ? 'block' : 'none';\n",
              "\n",
              "      async function convertToInteractive(key) {\n",
              "        const element = document.querySelector('#df-a59c30c2-1ef0-432f-bb98-a97365425631');\n",
              "        const dataTable =\n",
              "          await google.colab.kernel.invokeFunction('convertToInteractive',\n",
              "                                                    [key], {});\n",
              "        if (!dataTable) return;\n",
              "\n",
              "        const docLinkHtml = 'Like what you see? Visit the ' +\n",
              "          '<a target=\"_blank\" href=https://colab.research.google.com/notebooks/data_table.ipynb>data table notebook</a>'\n",
              "          + ' to learn more about interactive tables.';\n",
              "        element.innerHTML = '';\n",
              "        dataTable['output_type'] = 'display_data';\n",
              "        await google.colab.output.renderOutput(dataTable, element);\n",
              "        const docLink = document.createElement('div');\n",
              "        docLink.innerHTML = docLinkHtml;\n",
              "        element.appendChild(docLink);\n",
              "      }\n",
              "    </script>\n",
              "  </div>\n",
              "\n",
              "\n",
              "<div id=\"df-1e06a08b-23a7-4536-b82e-2b6cf174672d\">\n",
              "  <button class=\"colab-df-quickchart\" onclick=\"quickchart('df-1e06a08b-23a7-4536-b82e-2b6cf174672d')\"\n",
              "            title=\"Suggest charts\"\n",
              "            style=\"display:none;\">\n",
              "\n",
              "<svg xmlns=\"http://www.w3.org/2000/svg\" height=\"24px\"viewBox=\"0 0 24 24\"\n",
              "     width=\"24px\">\n",
              "    <g>\n",
              "        <path d=\"M19 3H5c-1.1 0-2 .9-2 2v14c0 1.1.9 2 2 2h14c1.1 0 2-.9 2-2V5c0-1.1-.9-2-2-2zM9 17H7v-7h2v7zm4 0h-2V7h2v10zm4 0h-2v-4h2v4z\"/>\n",
              "    </g>\n",
              "</svg>\n",
              "  </button>\n",
              "\n",
              "<style>\n",
              "  .colab-df-quickchart {\n",
              "      --bg-color: #E8F0FE;\n",
              "      --fill-color: #1967D2;\n",
              "      --hover-bg-color: #E2EBFA;\n",
              "      --hover-fill-color: #174EA6;\n",
              "      --disabled-fill-color: #AAA;\n",
              "      --disabled-bg-color: #DDD;\n",
              "  }\n",
              "\n",
              "  [theme=dark] .colab-df-quickchart {\n",
              "      --bg-color: #3B4455;\n",
              "      --fill-color: #D2E3FC;\n",
              "      --hover-bg-color: #434B5C;\n",
              "      --hover-fill-color: #FFFFFF;\n",
              "      --disabled-bg-color: #3B4455;\n",
              "      --disabled-fill-color: #666;\n",
              "  }\n",
              "\n",
              "  .colab-df-quickchart {\n",
              "    background-color: var(--bg-color);\n",
              "    border: none;\n",
              "    border-radius: 50%;\n",
              "    cursor: pointer;\n",
              "    display: none;\n",
              "    fill: var(--fill-color);\n",
              "    height: 32px;\n",
              "    padding: 0;\n",
              "    width: 32px;\n",
              "  }\n",
              "\n",
              "  .colab-df-quickchart:hover {\n",
              "    background-color: var(--hover-bg-color);\n",
              "    box-shadow: 0 1px 2px rgba(60, 64, 67, 0.3), 0 1px 3px 1px rgba(60, 64, 67, 0.15);\n",
              "    fill: var(--button-hover-fill-color);\n",
              "  }\n",
              "\n",
              "  .colab-df-quickchart-complete:disabled,\n",
              "  .colab-df-quickchart-complete:disabled:hover {\n",
              "    background-color: var(--disabled-bg-color);\n",
              "    fill: var(--disabled-fill-color);\n",
              "    box-shadow: none;\n",
              "  }\n",
              "\n",
              "  .colab-df-spinner {\n",
              "    border: 2px solid var(--fill-color);\n",
              "    border-color: transparent;\n",
              "    border-bottom-color: var(--fill-color);\n",
              "    animation:\n",
              "      spin 1s steps(1) infinite;\n",
              "  }\n",
              "\n",
              "  @keyframes spin {\n",
              "    0% {\n",
              "      border-color: transparent;\n",
              "      border-bottom-color: var(--fill-color);\n",
              "      border-left-color: var(--fill-color);\n",
              "    }\n",
              "    20% {\n",
              "      border-color: transparent;\n",
              "      border-left-color: var(--fill-color);\n",
              "      border-top-color: var(--fill-color);\n",
              "    }\n",
              "    30% {\n",
              "      border-color: transparent;\n",
              "      border-left-color: var(--fill-color);\n",
              "      border-top-color: var(--fill-color);\n",
              "      border-right-color: var(--fill-color);\n",
              "    }\n",
              "    40% {\n",
              "      border-color: transparent;\n",
              "      border-right-color: var(--fill-color);\n",
              "      border-top-color: var(--fill-color);\n",
              "    }\n",
              "    60% {\n",
              "      border-color: transparent;\n",
              "      border-right-color: var(--fill-color);\n",
              "    }\n",
              "    80% {\n",
              "      border-color: transparent;\n",
              "      border-right-color: var(--fill-color);\n",
              "      border-bottom-color: var(--fill-color);\n",
              "    }\n",
              "    90% {\n",
              "      border-color: transparent;\n",
              "      border-bottom-color: var(--fill-color);\n",
              "    }\n",
              "  }\n",
              "</style>\n",
              "\n",
              "  <script>\n",
              "    async function quickchart(key) {\n",
              "      const quickchartButtonEl =\n",
              "        document.querySelector('#' + key + ' button');\n",
              "      quickchartButtonEl.disabled = true;  // To prevent multiple clicks.\n",
              "      quickchartButtonEl.classList.add('colab-df-spinner');\n",
              "      try {\n",
              "        const charts = await google.colab.kernel.invokeFunction(\n",
              "            'suggestCharts', [key], {});\n",
              "      } catch (error) {\n",
              "        console.error('Error during call to suggestCharts:', error);\n",
              "      }\n",
              "      quickchartButtonEl.classList.remove('colab-df-spinner');\n",
              "      quickchartButtonEl.classList.add('colab-df-quickchart-complete');\n",
              "    }\n",
              "    (() => {\n",
              "      let quickchartButtonEl =\n",
              "        document.querySelector('#df-1e06a08b-23a7-4536-b82e-2b6cf174672d button');\n",
              "      quickchartButtonEl.style.display =\n",
              "        google.colab.kernel.accessAllowed ? 'block' : 'none';\n",
              "    })();\n",
              "  </script>\n",
              "</div>\n",
              "\n",
              "    </div>\n",
              "  </div>\n"
            ],
            "application/vnd.google.colaboratory.intrinsic+json": {
              "type": "dataframe",
              "variable_name": "df1"
            }
          },
          "metadata": {},
          "execution_count": 21
        }
      ]
    },
    {
      "cell_type": "code",
      "source": [
        "import matplotlib.pyplot as plt\n",
        "import pandas as pd\n",
        "\n",
        "# Group by Animal Type and count the number of occurrences\n",
        "animal_type_counts = df1.groupby('Animal Type')['Animal ID'].count()\n",
        "\n",
        "# Plot the data\n",
        "animal_type_counts.plot(kind='bar')\n",
        "\n",
        "# Set labels and title\n",
        "plt.xlabel('Animal Type')\n",
        "plt.ylabel('Number of Animals')\n",
        "plt.title('Number of Animals by Type')\n",
        "\n",
        "# Show the plot\n",
        "plt.show()\n"
      ],
      "metadata": {
        "colab": {
          "base_uri": "https://localhost:8080/",
          "height": 490
        },
        "id": "wBgXYVKq5j8a",
        "outputId": "a2db4cf0-725a-46fd-a870-a5a3935c507d"
      },
      "execution_count": 22,
      "outputs": [
        {
          "output_type": "display_data",
          "data": {
            "text/plain": [
              "<Figure size 640x480 with 1 Axes>"
            ],
            "image/png": "[encoded data removed]"
          },
          "metadata": {}
        }
      ]
    },
    {
      "cell_type": "code",
      "source": [
        "# Group by Primary Color and count\n",
        "primary_color_counts = df1.groupby('Primary Color')['Animal ID'].count()\n",
        "\n",
        "# Calculate percentage distribution\n",
        "primary_color_percentage = (primary_color_counts / primary_color_counts.sum()) * 100\n",
        "\n",
        "# Convert to DataFrame for tabular display\n",
        "primary_color_percentage_df = primary_color_percentage.reset_index()\n",
        "\n",
        "# Rename columns for clarity\n",
        "primary_color_percentage_df.columns = ['Primary Color', 'Percentage (%)']\n",
        "\n",
        "# Display as a table\n",
        "print(primary_color_percentage_df)"
      ],
      "metadata": {
        "colab": {
          "base_uri": "https://localhost:8080/"
        },
        "id": "NFdbWcVN5vII",
        "outputId": "42cfae31-331b-404c-8fab-777eddfe5b2e"
      },
      "execution_count": 28,
      "outputs": [
        {
          "output_type": "stream",
          "name": "stdout",
          "text": [
            "   Primary Color  Percentage (%)\n",
            "0        APRICOT        0.060024\n",
            "1     BL BRINDLE        0.240096\n",
            "2          BLACK       26.490596\n",
            "3      BLK SMOKE        0.080032\n",
            "4      BLK TABBY        0.340136\n",
            "..           ...             ...\n",
            "58      TRICOLOR        1.060424\n",
            "59       UNKNOWN        0.280112\n",
            "60         WHEAT        0.020008\n",
            "61         WHITE       12.224890\n",
            "62        YELLOW        0.120048\n",
            "\n",
            "[63 rows x 2 columns]\n"
          ]
        }
      ]
    },
    {
      "cell_type": "code",
      "source": [
        "# Ensure Intake Date is in datetime format, with invalid dates set to NaT\n",
        "df1['Intake Date'] = pd.to_datetime(df1['Intake Date'], errors='coerce')\n",
        "\n",
        "# Drop rows with NaT in the 'Intake Date' column\n",
        "df1 = df1.dropna(subset=['Intake Date'])\n",
        "\n",
        "# Group by date and count the number of intakes\n",
        "intake_over_time = df1.groupby(df1['Intake Date'].dt.date)['Animal ID'].count()\n",
        "\n",
        "# Plot the data\n",
        "intake_over_time.plot(kind='line')\n",
        "\n",
        "# Set labels and title\n",
        "plt.xlabel('Date')\n",
        "plt.ylabel('Number of Intakes')\n",
        "plt.title('Number of Animal Intakes Over Time')\n",
        "\n",
        "# Show the plot\n",
        "plt.show()\n"
      ],
      "metadata": {
        "colab": {
          "base_uri": "https://localhost:8080/",
          "height": 472
        },
        "id": "ADh2z70H5v_-",
        "outputId": "e87e11f4-0f0f-4506-8bbe-c774cabce2e9"
      },
      "execution_count": 30,
      "outputs": [
        {
          "output_type": "display_data",
          "data": {
            "text/plain": [
              "<Figure size 640x480 with 1 Axes>"
            ],
            "image/png": "[encoded data removed]"
          },
          "metadata": {}
        }
      ]
    },
    {
      "cell_type": "code",
      "source": [
        "# Group by Animal Type and Intake Condition\n",
        "intake_condition_by_type = df1.groupby(['Animal Type', 'Intake Condition'])['Animal ID'].count().unstack()\n",
        "\n",
        "# Plot the data\n",
        "intake_condition_by_type.plot(kind='bar', stacked=True)\n",
        "\n",
        "# Set labels and title\n",
        "plt.xlabel('Animal Type')\n",
        "plt.ylabel('Number of Animals')\n",
        "plt.title('Animal Intake Condition by Type')\n",
        "\n",
        "# Show the plot\n",
        "plt.show()\n"
      ],
      "metadata": {
        "colab": {
          "base_uri": "https://localhost:8080/",
          "height": 490
        },
        "id": "7WzYB7mV5wNB",
        "outputId": "9e4948e0-7868-4c9d-e743-4fa10e1e63b8"
      },
      "execution_count": 31,
      "outputs": [
        {
          "output_type": "display_data",
          "data": {
            "text/plain": [
              "<Figure size 640x480 with 1 Axes>"
            ],
            "image/png": "[encoded data removed]"
          },
          "metadata": {}
        }
      ]
    },
    {
      "cell_type": "code",
      "source": [
        "import matplotlib.pyplot as plt\n",
        "import numpy as np\n",
        "\n",
        "# Add small jitter to latitude and longitude to avoid overlap\n",
        "jitter = 0.001  # Adjust the jitter value based on your data\n",
        "df1['latitude_jittered'] = df1['latitude'].astype(float) + np.random.uniform(-jitter, jitter, df1.shape[0])\n",
        "df1['longitude_jittered'] = df1['longitude'].astype(float) + np.random.uniform(-jitter, jitter, df1.shape[0])\n",
        "\n",
        "# Plot jittered latitude vs longitude for mapping intake locations\n",
        "plt.scatter(df1['latitude_jittered'], df1['longitude_jittered'], alpha=0.5, color='blue')\n",
        "\n",
        "# Set labels and title\n",
        "plt.xlabel('Latitude')\n",
        "plt.ylabel('Longitude')\n",
        "plt.title('Animal Intake Locations with Jitter')\n",
        "\n",
        "# Show the plot\n",
        "plt.show()\n"
      ],
      "metadata": {
        "colab": {
          "base_uri": "https://localhost:8080/",
          "height": 472
        },
        "id": "pivxHWod5wcB",
        "outputId": "821b89e5-6cc7-4d31-b48f-cd2054daefb7"
      },
      "execution_count": 33,
      "outputs": [
        {
          "output_type": "display_data",
          "data": {
            "text/plain": [
              "<Figure size 640x480 with 1 Axes>"
            ],
            "image/png": "[encoded data removed]"
          },
          "metadata": {}
        }
      ]
    },
    {
      "cell_type": "code",
      "source": [
        "\n"
      ],
      "metadata": {
        "colab": {
          "base_uri": "https://localhost:8080/",
          "height": 472
        },
        "id": "Ife6cXCQ5wua",
        "outputId": "e938199e-3a03-4bd5-adf2-c03948abed8a"
      },
      "execution_count": 34,
      "outputs": [
        {
          "output_type": "display_data",
          "data": {
            "text/plain": [
              "<Figure size 640x480 with 2 Axes>"
            ],
            "image/png": "[encoded data removed]"
          },
          "metadata": {}
        }
      ]
    }
  ]
}